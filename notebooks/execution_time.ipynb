{
 "cells": [
  {
   "cell_type": "markdown",
   "id": "a4ab2c8f-17ef-4468-994b-66b26ec9b5a5",
   "metadata": {},
   "source": [
    "# Setup"
   ]
  },
  {
   "cell_type": "code",
   "execution_count": 1,
   "id": "abfe716e-a1d0-489c-9885-a3c3ab6f25bf",
   "metadata": {},
   "outputs": [],
   "source": [
    "import pandas as pd\n",
    "import numpy as np\n",
    "import seaborn as sns\n",
    "import matplotlib.pyplot as plt\n",
    "import os\n",
    "import random\n",
    "import time\n",
    "from tqdm.notebook import tqdm_notebook\n",
    "\n",
    "tqdm_notebook.pandas()"
   ]
  },
  {
   "cell_type": "code",
   "execution_count": 2,
   "id": "55a620ff-526f-46ce-a43e-94e3b6bf12cc",
   "metadata": {},
   "outputs": [],
   "source": [
    "exec_time_path = '/home/sylli/Documents/MSAD-E/data/execution_time/detectors_inference_time.csv'\n",
    "csv_dir = '/home/sylli/Documents/MSAD-E/reports/results_06_2024'\n",
    "save_fig_path = os.path.join(csv_dir, \"figures\")"
   ]
  },
  {
   "cell_type": "code",
   "execution_count": 3,
   "id": "97a2d866-cf54-43ba-8ef5-f5387d690d23",
   "metadata": {},
   "outputs": [],
   "source": [
    "# Detectors\n",
    "detector_names = [\n",
    "\t'AE', \n",
    "\t'CNN', \n",
    "\t'HBOS', \n",
    "\t'IFOREST', \n",
    "\t'IFOREST1', \n",
    "\t'LOF', \n",
    "\t'LSTM', \n",
    "\t'MP', \n",
    "\t'NORMA', \n",
    "\t'OCSVM', \n",
    "\t'PCA', \n",
    "\t'POLY'\n",
    "]\n",
    "\n",
    "weight_names = [f\"weight_{x}\" for x in detector_names]\n",
    "\n",
    "model_selectors = [\n",
    "    \"convnet128\",\n",
    "    \"resnet1024\",\n",
    "    \"sit512\",\n",
    "    \"knn1024\",\n",
    "]\n",
    "\n",
    "combine_methods = ['average', 'vote']\n",
    "\n",
    "datasets = [\n",
    "    'MGAB', \n",
    "    'GHL', \n",
    "    'MITDB', \n",
    "    'Genesis', \n",
    "    'OPPORTUNITY', \n",
    "    'SensorScope', \n",
    "    'KDD21', \n",
    "    'Occupancy', \n",
    "    'SVDB', \n",
    "    'IOPS', \n",
    "    'SMD', \n",
    "    'Daphnet',\n",
    "    'ECG',\n",
    "    'NAB',\n",
    "    'YAHOO'\n",
    "]\n",
    "\n",
    "metrics = ['AUC-ROC', 'AUC-PR', 'VUS-ROC', 'VUS-PR']\n",
    "\n",
    "k_values = np.arange(1, 13)"
   ]
  },
  {
   "cell_type": "code",
   "execution_count": 4,
   "id": "57eb96e1-20fb-474b-b5db-15a4355c5729",
   "metadata": {},
   "outputs": [],
   "source": [
    "def load_results(csv_file):\n",
    "    \"\"\"Load results from a CSV file.\"\"\"\n",
    "    return pd.read_csv(csv_file, index_col=0)"
   ]
  },
  {
   "cell_type": "markdown",
   "id": "362f06ef-1466-4871-866d-b486ef59229c",
   "metadata": {},
   "source": [
    "# Load data"
   ]
  },
  {
   "cell_type": "code",
   "execution_count": 5,
   "id": "8092b752-2faa-413e-9527-7e5b3baf2672",
   "metadata": {},
   "outputs": [
    {
     "ename": "FileNotFoundError",
     "evalue": "[Errno 2] No such file or directory: '/home/sylli/Documents/MSAD-E/reports/results_06_2024'",
     "output_type": "error",
     "traceback": [
      "\u001b[0;31m---------------------------------------------------------------------------\u001b[0m",
      "\u001b[0;31mFileNotFoundError\u001b[0m                         Traceback (most recent call last)",
      "Cell \u001b[0;32mIn[5], line 2\u001b[0m\n\u001b[1;32m      1\u001b[0m \u001b[38;5;66;03m# Read files\u001b[39;00m\n\u001b[0;32m----> 2\u001b[0m result_files \u001b[38;5;241m=\u001b[39m [file \u001b[38;5;28;01mfor\u001b[39;00m file \u001b[38;5;129;01min\u001b[39;00m \u001b[43mos\u001b[49m\u001b[38;5;241;43m.\u001b[39;49m\u001b[43mlistdir\u001b[49m\u001b[43m(\u001b[49m\u001b[43mcsv_dir\u001b[49m\u001b[43m)\u001b[49m \u001b[38;5;28;01mif\u001b[39;00m file\u001b[38;5;241m.\u001b[39mendswith(\u001b[38;5;124m'\u001b[39m\u001b[38;5;124m.csv\u001b[39m\u001b[38;5;124m'\u001b[39m)]\n\u001b[1;32m      3\u001b[0m \u001b[38;5;28mprint\u001b[39m(np\u001b[38;5;241m.\u001b[39mrandom\u001b[38;5;241m.\u001b[39mchoice(result_files, \u001b[38;5;241m3\u001b[39m))\n\u001b[1;32m      5\u001b[0m supervised_files \u001b[38;5;241m=\u001b[39m [file \u001b[38;5;28;01mfor\u001b[39;00m file \u001b[38;5;129;01min\u001b[39;00m result_files \u001b[38;5;28;01mif\u001b[39;00m \u001b[38;5;124m\"\u001b[39m\u001b[38;5;124mtestsize\u001b[39m\u001b[38;5;124m\"\u001b[39m \u001b[38;5;129;01mnot\u001b[39;00m \u001b[38;5;129;01min\u001b[39;00m file]\n",
      "\u001b[0;31mFileNotFoundError\u001b[0m: [Errno 2] No such file or directory: '/home/sylli/Documents/MSAD-E/reports/results_06_2024'"
     ]
    }
   ],
   "source": [
    "# Read files\n",
    "result_files = [file for file in os.listdir(csv_dir) if file.endswith('.csv')]\n",
    "print(np.random.choice(result_files, 3))\n",
    "\n",
    "supervised_files = [file for file in result_files if \"testsize\" not in file]\n",
    "unsupervised_files = [file for file in result_files if \"testsize\" in file]\n",
    "print((f\"Total number of files {len(result_files)}, of which {len(supervised_files)} \"\n",
    "        f\"supervised and {len(unsupervised_files)} ({len(supervised_files)} + \"\n",
    "        f\"{len(unsupervised_files)} = {len(supervised_files) + len(unsupervised_files)})\"))"
   ]
  },
  {
   "cell_type": "code",
   "execution_count": null,
   "id": "f92ace2b-e0a9-43d6-9f51-49ea6fdff9f3",
   "metadata": {},
   "outputs": [],
   "source": [
    "# Load data\n",
    "all_results = []\n",
    "curr_experiment_env = set()\n",
    "\n",
    "for file in supervised_files:\n",
    "    parts = file.split('_')\n",
    "\n",
    "    if len(parts) != 4:\n",
    "        print(\"STOP! THERE IS A MISTAKE WITH GROUPING THE FILES. FILE NAME HAS PROBABLY CHANGED. TAKE CARE\")\n",
    "    else:\n",
    "        dataset = parts[0]\n",
    "        model_selector = parts[1]\n",
    "        combine_method = parts[-2]\n",
    "        k = int(parts[-1].split('.')[0][1:])\n",
    "        if (dataset not in datasets) or \\\n",
    "        (model_selector not in model_selectors) or \\\n",
    "        (combine_method not in combine_methods) or \\\n",
    "        (k not in k_values):\n",
    "            print(\"STOP! THERE IS A MISTAKE WITH GROUPING THE FILES. FILE NAME HAS PROBABLY CHANGED. TAKE CARE\")\n",
    "            break\n",
    "        else:\n",
    "            curr_df = pd.read_csv(os.path.join(csv_dir, file))\n",
    "            curr_df.rename(columns={'Unnamed: 0': 'Time series'}, inplace=True)\n",
    "            curr_df['Model Selector'] = model_selector\n",
    "            curr_df['k'] = k\n",
    "            curr_df['Combine Method'] = combine_method\n",
    "            curr_df['Dataset'] = dataset\n",
    "            all_results.append(curr_df)\n",
    "\n",
    "            # Update curr existing datasets, MSs, etc.\n",
    "            curr_experiment_env.add(dataset)\n",
    "            curr_experiment_env.add(model_selector)\n",
    "            curr_experiment_env.add(combine_method)\n",
    "            curr_experiment_env.add(k)\n",
    "\n",
    "df = pd.concat(all_results)\n",
    "df"
   ]
  },
  {
   "cell_type": "code",
   "execution_count": null,
   "id": "4a98713a-bc9f-44b8-ae00-248ee3785ba1",
   "metadata": {},
   "outputs": [],
   "source": [
    "# Update available parameters depending on read data\n",
    "datasets = [x for x in datasets if x in curr_experiment_env]\n",
    "model_selectors = [x for x in model_selectors if x in curr_experiment_env]\n",
    "combine_methods = [x for x in combine_methods if x in curr_experiment_env]\n",
    "k_values = [x for x in k_values if x in curr_experiment_env]"
   ]
  },
  {
   "cell_type": "code",
   "execution_count": null,
   "id": "6eb69261-10fe-478d-8cf8-925883172b5c",
   "metadata": {},
   "outputs": [],
   "source": [
    "# Read execution time per detector, per time series\n",
    "time_df = pd.read_csv(exec_time_path)\n",
    "time_df['filename'] = time_df.apply(lambda x: f\"{x['dataset']}/{x['filename']}\", axis='columns')\n",
    "time_df.rename(columns={'filename': 'Time series', 'dataset': 'Dataset'}, inplace=True)\n",
    "time_df.set_index('Time series', inplace=True)\n",
    "\n",
    "# Keep time series that are in the final validation set \n",
    "df = df[df['Time series'].isin(time_df.index)].copy()"
   ]
  },
  {
   "cell_type": "code",
   "execution_count": null,
   "id": "721a5b41-2dff-43d2-b554-0ee013dd7a0a",
   "metadata": {},
   "outputs": [],
   "source": [
    "def compute_execution_time(elem, time_df, detector_names, weight_names):\n",
    "    non_zero_columns = elem[weight_names][elem[weight_names] != 0].index\n",
    "    detectors_used = [x.replace('weight_', '') for x in non_zero_columns]\n",
    "\n",
    "    return np.sum(time_df.loc[elem['Time series'], detectors_used])"
   ]
  },
  {
   "cell_type": "code",
   "execution_count": null,
   "id": "cc693895-0b34-4caa-87f8-9e88d0e0a7e0",
   "metadata": {},
   "outputs": [],
   "source": [
    "df['Execution Time'] = df.progress_apply(lambda x: compute_execution_time(x, time_df, detector_names, weight_names), axis=1)"
   ]
  },
  {
   "cell_type": "code",
   "execution_count": null,
   "id": "f87048ea-aca7-43b9-97d9-0a306d23e893",
   "metadata": {},
   "outputs": [],
   "source": [
    "df[\"k_real\"] = np.sum(df.filter(like=\"weight_\") != 0, axis=1)"
   ]
  },
  {
   "cell_type": "markdown",
   "id": "b1371739-0db0-4742-8466-8499e897e14e",
   "metadata": {},
   "source": [
    "# Analysis"
   ]
  },
  {
   "cell_type": "code",
   "execution_count": null,
   "id": "8ca730d5-dd29-4a5d-9f9b-41a99e5b041c",
   "metadata": {},
   "outputs": [],
   "source": [
    "# k Distribution\n",
    "fig, axes = plt.subplots(4, 2, figsize=(10, 16), sharey=True)\n",
    "\n",
    "for i, model_selector in enumerate(model_selectors):    \n",
    "    sns.histplot(ax=axes[i, 0], data=df, x='k', hue='Combine Method')\n",
    "    sns.histplot(ax=axes[i, 1], data=df, x='k_real', hue='Combine Method')\n",
    "\n",
    "    \n",
    "    axes[i, 0].set_title(model_selector)\n",
    "    axes[i, 1].set_title(model_selector)\n",
    "    \n",
    "for ax in axes.flatten():\n",
    "    ax.grid()\n",
    "\n",
    "plt.tight_layout()\n",
    "plt.show()"
   ]
  },
  {
   "cell_type": "code",
   "execution_count": null,
   "id": "4114d049-77a1-4454-ab03-efadce455d78",
   "metadata": {},
   "outputs": [],
   "source": [
    "# Execution Time\n",
    "fig, axes = plt.subplots(4, 2, figsize=(10, 16), sharey=True)\n",
    "\n",
    "for i, model_selector in enumerate(model_selectors):    \n",
    "    sns.boxplot(ax=axes[i, 0], data=df[df['Model Selector'] == model_selector], x='k', y='Execution Time', hue='Combine Method')\n",
    "    sns.boxplot(ax=axes[i, 1], data=df[df['Model Selector'] == model_selector], x='k_real', y='Execution Time', hue='Combine Method')\n",
    "    \n",
    "    axes[i, 0].set_title(model_selector)\n",
    "    axes[i, 1].set_title(model_selector)\n",
    "    \n",
    "for ax in axes.flatten():\n",
    "    ax.set_yscale('log')\n",
    "    ax.grid()\n",
    "\n",
    "plt.tight_layout()\n",
    "plt.show()"
   ]
  },
  {
   "cell_type": "code",
   "execution_count": null,
   "id": "4ed6da17-5625-419e-80a8-1b1f21dbdc23",
   "metadata": {},
   "outputs": [],
   "source": [
    "# Execution Time\n",
    "fig, axes = plt.subplots(4, 2, figsize=(10, 16), sharey=True)\n",
    "\n",
    "for i, model_selector in enumerate(model_selectors):    \n",
    "    sns.lineplot(ax=axes[i, 0], data=df, x='k', y='AUC-PR', hue='Combine Method')\n",
    "    # sns.lineplot(ax=axes[i, 1], data=df, x='k_real', y='AUC-PR', hue='Combine Method')\n",
    "    \n",
    "    axes[i, 0].set_title(model_selector)\n",
    "    axes[i, 1].set_title(model_selector)\n",
    "    \n",
    "for ax in axes.flatten():\n",
    "    ax.grid()\n",
    "\n",
    "plt.tight_layout()\n",
    "plt.show()"
   ]
  },
  {
   "cell_type": "code",
   "execution_count": null,
   "id": "0d2029cc-fa95-4bb4-bde6-543c0fd40694",
   "metadata": {},
   "outputs": [],
   "source": [
    "# Execution Time\n",
    "fig, axes = plt.subplots(4, 2, figsize=(10, 16), sharey=True)\n",
    "\n",
    "for i, model_selector in enumerate(model_selectors):    \n",
    "    sns.lineplot(ax=axes[i, 0], data=df, x='k', y='VUS-PR', hue='Combine Method')\n",
    "    sns.lineplot(ax=axes[i, 1], data=df, x='k_real', y='VUS-PR', hue='Combine Method')\n",
    "    \n",
    "    axes[i, 0].set_title(model_selector)\n",
    "    axes[i, 1].set_title(model_selector)\n",
    "    \n",
    "for ax in axes.flatten():\n",
    "    ax.grid()\n",
    "\n",
    "plt.tight_layout()\n",
    "plt.show()"
   ]
  },
  {
   "cell_type": "code",
   "execution_count": null,
   "id": "692be39c-bde4-4861-8ce4-f813dc6fadcf",
   "metadata": {},
   "outputs": [],
   "source": []
  },
  {
   "cell_type": "code",
   "execution_count": null,
   "id": "a58ea3b5-3b9b-4052-bb90-7098e04a0b53",
   "metadata": {},
   "outputs": [],
   "source": []
  },
  {
   "cell_type": "code",
   "execution_count": null,
   "id": "8e50a81c-1e93-43d3-b004-0eeaa7cbbb91",
   "metadata": {},
   "outputs": [],
   "source": []
  },
  {
   "cell_type": "code",
   "execution_count": null,
   "id": "b8370d47-0908-4ff3-a4ec-f18a4a3440e9",
   "metadata": {},
   "outputs": [],
   "source": []
  },
  {
   "cell_type": "code",
   "execution_count": null,
   "id": "388bcdec-2a84-46a9-a8cf-0ebc9f748cb1",
   "metadata": {},
   "outputs": [],
   "source": []
  },
  {
   "cell_type": "code",
   "execution_count": null,
   "id": "48df4817-3874-4d3b-977a-43bde089e393",
   "metadata": {},
   "outputs": [],
   "source": []
  },
  {
   "cell_type": "code",
   "execution_count": null,
   "id": "11d5bc9a-e832-4cf8-8ebe-36080d1e05f3",
   "metadata": {},
   "outputs": [],
   "source": []
  },
  {
   "cell_type": "code",
   "execution_count": null,
   "id": "4f5c56d6-3ea0-4219-a4b6-e512ada510dd",
   "metadata": {},
   "outputs": [],
   "source": []
  },
  {
   "cell_type": "code",
   "execution_count": null,
   "id": "76141760-681d-44b4-bd3d-c05db58f5a10",
   "metadata": {},
   "outputs": [],
   "source": []
  }
 ],
 "metadata": {
  "kernelspec": {
   "display_name": "Python 3 (ipykernel)",
   "language": "python",
   "name": "python3"
  },
  "language_info": {
   "codemirror_mode": {
    "name": "ipython",
    "version": 3
   },
   "file_extension": ".py",
   "mimetype": "text/x-python",
   "name": "python",
   "nbconvert_exporter": "python",
   "pygments_lexer": "ipython3",
   "version": "3.11.8"
  }
 },
 "nbformat": 4,
 "nbformat_minor": 5
}
